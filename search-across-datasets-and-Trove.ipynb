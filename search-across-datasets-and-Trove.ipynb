{
 "cells": [
  {
   "cell_type": "markdown",
   "metadata": {},
   "source": [
    "# Search across State Library's family history index datasets\n",
    "\n",
    "State Library of Queensland has released a number of family history datasets on the <a href=\"https://www.data.qld.gov.au/organization/state-library-queensland\">Queensland Government Open Data Portal.</a>\n",
    "\n",
    "Instead of downloading each family history dataset from the portal and searching through individually, use this tool to search across the open datasets using the portal's API. After seeing results, you can download the files and explanatory documents about the dataset directly from the notebook."
   ]
  },
  {
   "cell_type": "code",
   "execution_count": 1,
   "metadata": {},
   "outputs": [],
   "source": [
    "# Setup data file import from open data portal\n",
    "import requests\n",
    "import ipywidgets as widgets\n",
    "import pandas as pd\n",
    "\n",
    "from IPython.display import display, HTML, clear_output\n",
    "\n",
    "# Settings some font options I can use later\n",
    "class color:\n",
    "   PURPLE = '\\033[95m'\n",
    "   CYAN = '\\033[96m'\n",
    "   DARKCYAN = '\\033[36m'\n",
    "   BLUE = '\\033[94m'\n",
    "   GREEN = '\\033[92m'\n",
    "   YELLOW = '\\033[93m'\n",
    "   RED = '\\033[91m'\n",
    "   BOLD = '\\033[1m'\n",
    "   UNDERLINE = '\\033[4m'\n",
    "   END = '\\033[0m'\n",
    "\n",
    "# Nested list of State Library's family history csvs available on open data portal. Listed at file (resource) level instead of dataset level. Input here to maintain accurate references.\n",
    "# [Title of resource, ID of dataset, ID of resource, ID of explanatory document for resource]\n",
    "nestedDatafiles = [['Police Gazette Inquests 1875-1885','f1a5089b-01f9-40a8-8aee-ce62a4721bde','15d01937-097c-45ed-a365-feb493b05c2c','b6f49f3c-a4e8-45cc-946b-945b98bb80aa'],\n",
    "                   ['British convict transportation registers','458eb59f-e5f1-466f-925b-9dbcebb4f073','dbcfa4a6-3ec7-4264-bcee-43b21a470d34','none'],\n",
    "                   ['Queensland mining accidents 1882-1945','2e5b65d7-09d5-403f-a5d5-a552410f2d5d','35ea936d-083e-4ad6-beab-e0fede2cd3a6','none'],\n",
    "                   ['World War 1 soldier portraits','4a99c4e7-393b-40cb-afb7-1754cd23a551','a46b4d2b-243f-41f9-9a61-a231f1d1b6d0','b07264d9-6ea4-4dc5-af81-79b367b3ada0'],\n",
    "                   ['Queensland railway employees 1890-1915 - Appointees','a6149d43-9f72-40e3-8ed6-905b3131ef55','cdafbbbf-c9ca-46a1-9f18-ecd9e8943040','98907f7e-774d-4a37-891a-fb57525eb2dd'],\n",
    "                   ['Queensland railway employees 1890-1915 - Removals','a6149d43-9f72-40e3-8ed6-905b3131ef55','200ab9db-4071-47f1-971b-1286f89c097c','98907f7e-774d-4a37-891a-fb57525eb2dd'],\n",
    "                   ['Licensed victuallers Index','96c624e5-c6fd-4e26-8c07-90a236185437','e427f733-1386-4299-9c8d-852c69ce3575','debf908a-207f-4532-a091-180a714882d4'],\n",
    "                   ['Southern and Western Railway employees 1866-1876 - Appointees','eef8cc6b-6bdd-4439-994e-5f74c509618a','9e230691-9ca2-41a8-ba09-ae9ca70c9f00','027cdd56-f0c7-4d10-8151-ff852de6090e'],\n",
    "                   ['Southern and Western Railway employees 1866-1876 - Removals','eef8cc6b-6bdd-4439-994e-5f74c509618a','75ef82f6-16cd-4432-b76d-b9dade6d21e7','027cdd56-f0c7-4d10-8151-ff852de6090e'],\n",
    "                   ['Persons called before Queensland Government committees 1860-1920','623d1ff9-8c20-486b-ada2-a69a35c16134','390ffd43-8a07-4b3f-b523-27dceadb904d','87d9faed-be67-4559-bd16-3f5dcde827da']\n",
    "                  ]\n",
    "\n",
    "# Separate nested list into flat lists for easy use\n",
    "resourceTitles = []\n",
    "datasetIDs = []\n",
    "resourceIDs = []\n",
    "explanatoryIDs = []\n",
    "for x in range (len(nestedDatafiles)):\n",
    "    resourceTitles.append(nestedDatafiles [x][0])\n",
    "    datasetIDs.append(nestedDatafiles [x][1])\n",
    "    resourceIDs.append(nestedDatafiles [x][2])\n",
    "    explanatoryIDs.append(nestedDatafiles [x][3])\n",
    "    \n",
    "# Empty list to store which datafiles are selected for search\n",
    "selectSearch = []\n",
    "\n",
    "# Base data API URL for a data file on data.qld.gov.au\n",
    "baseURL = 'https://www.data.qld.gov.au/api/3/action/datastore'\n",
    "resourceURL = baseURL + '_search?resource_id='"
   ]
  },
  {
   "cell_type": "code",
   "execution_count": 2,
   "metadata": {},
   "outputs": [
    {
     "data": {
      "application/javascript": [
       "// This is necessary in Jupyter notebook to stop the output area folding up\n",
       "// Will give an error in Jupyter Lab\n",
       "IPython.OutputArea.prototype._should_scroll = function(lines) {return false}\n"
      ],
      "text/plain": [
       "<IPython.core.display.Javascript object>"
      ]
     },
     "metadata": {},
     "output_type": "display_data"
    }
   ],
   "source": [
    "%%javascript\n",
    "// This is necessary in Jupyter notebook to stop the output area folding up\n",
    "// Will give an error in Jupyter Lab\n",
    "IPython.OutputArea.prototype._should_scroll = function(lines) {return false}"
   ]
  },
  {
   "cell_type": "code",
   "execution_count": 3,
   "metadata": {},
   "outputs": [],
   "source": [
    "# Setup the widgets that will allow input for search term, result limit, and button to search\n",
    "\n",
    "# This code populates the list into an interactive selector widget - I want to figure out how to dynamically populate the options list from the API, instead of recording each individually.\n",
    "datasetSelector = widgets.SelectMultiple(\n",
    "    options = (resourceTitles),\n",
    "    disabled = False,\n",
    "    layout=widgets.Layout(width = '600px', height = '180px')\n",
    ")\n",
    "\n",
    "# This input widget let's you type in any string to search as a keyword\n",
    "keywordSetter = widgets.Text(\n",
    "    placeholder = 'Search anything',\n",
    "    disabled = False,\n",
    "    layout=widgets.Layout(width = '500px')\n",
    ")\n",
    "\n",
    "# This input widget lets you set any numeric value manually, within the set min/max, and also set how big the 'step' is to increase/decrease the integer in the widget\n",
    "limitSetter = widgets.BoundedIntText(\n",
    "    value = 10,\n",
    "    min = 1,\n",
    "    max = 10000,\n",
    "    step = 50,\n",
    "    disabled = False,\n",
    "    layout=widgets.Layout(width = '100px')\n",
    ")\n",
    "\n",
    "# This widget creates an action button for the user to kick off the search\n",
    "button = widgets.Button(\n",
    "    description = 'Start search',\n",
    "    button_style = 'primary',\n",
    "    disabled = False\n",
    ")\n",
    "\n",
    "output = widgets.Output()"
   ]
  },
  {
   "cell_type": "code",
   "execution_count": 4,
   "metadata": {},
   "outputs": [],
   "source": [
    "# This defines the function that will be run when users click the Start search button in a later cell\n",
    "\n",
    "def search_values(b):\n",
    "    # Clear output from any previous searches\n",
    "    output.clear_output()\n",
    "    \n",
    "    # Set the values from the widgets\n",
    "    global selectSearch\n",
    "    global keyword\n",
    "    global resultLimit\n",
    "    \n",
    "    selectSearch = datasetSelector.index\n",
    "    # If nothing is selected, search all files\n",
    "    if len(selectSearch) == 0:\n",
    "        selectSearch =[]\n",
    "        for x in range (len(nestedDatafiles)):\n",
    "            selectSearch.append(x)\n",
    "    keyword = keywordSetter.value\n",
    "    resultLimit = limitSetter.value   \n",
    "  \n",
    "    # Search in each dataset selected (stored in selectSearch array) with the values input by widgets. \n",
    "    # The code loops through to search each dataset, display results, then search the next dataset, one at a time.\n",
    "    for x in range (len(selectSearch)):\n",
    "        response = requests.get(baseURL + '_search?q=' + keyword + '&resource_id=' + resourceIDs[selectSearch[x]] + '&limit=' + str(resultLimit))\n",
    "    \n",
    "        # extract records from search in JSON format\n",
    "        results = response.json()\n",
    "         \n",
    "        # identify where the record data I want sits in the JSON\n",
    "        records = results['result']['records']\n",
    "            \n",
    "        # identify where the total count of results sits in the JSON\n",
    "        total = results['result']['total']\n",
    "            \n",
    "        with output:\n",
    "            # print the total count of results, search term, and dataset title\n",
    "            print ('\\n' + color.BOLD + color.UNDERLINE + resourceTitles[selectSearch[x]] + color.END)\n",
    "            print (color.BOLD + str(total) + color.END + ' results for ' + color.BOLD + color.GREEN + keyword)\n",
    "               \n",
    "            # link to download full file from portal\n",
    "            # The data API URL for download isn't turned on for the Qld portal, but I can still make the URL work with the datasetID and resourceID\n",
    "            downloadURL = 'https://www.data.qld.gov.au/dataset/' + datasetIDs[selectSearch[x]] + '/resource/' + resourceIDs[selectSearch[x]] + '/download/'\n",
    "            documentURL = 'https://www.data.qld.gov.au/dataset/' + datasetIDs[selectSearch[x]] + '/resource/' + explanatoryIDs[selectSearch[x]] + '/download/'\n",
    "            display(HTML(f'<a href=\"{downloadURL}\" download=\"{resourceTitles[selectSearch[x]]}.csv\">Download the full CSV</a>'))\n",
    "            if explanatoryIDs[selectSearch[x]] != 'none':\n",
    "                display(HTML(f'<a href=\"{documentURL}\" download=\"{resourceTitles[selectSearch[x]]}.csv\">Download the explanatory document</a>'))\n",
    "            \n",
    "            # display a message if the total count of results is larger than the result limit selected\n",
    "            if total > resultLimit:\n",
    "                print(color.RED + '(Only displaying the first ' + str(resultLimit) + ' of ' + str(total) +  ' results)')\n",
    "    \n",
    "            # displays records from search in each dataset\n",
    "            pd.set_option('display.max_rows', None)\n",
    "            df = pd.DataFrame(records)\n",
    "            display(df)"
   ]
  },
  {
   "cell_type": "code",
   "execution_count": 5,
   "metadata": {},
   "outputs": [],
   "source": [
    "# This sets what function the notebook will run when a user clicks the button. The function is defined in the previous cell.\n",
    "button.on_click(search_values)"
   ]
  },
  {
   "cell_type": "code",
   "execution_count": 6,
   "metadata": {},
   "outputs": [
    {
     "data": {
      "text/html": [
       "<b>Select datasets to search</b> (leave blank for all):"
      ],
      "text/plain": [
       "<IPython.core.display.HTML object>"
      ]
     },
     "metadata": {},
     "output_type": "display_data"
    },
    {
     "data": {
      "application/vnd.jupyter.widget-view+json": {
       "model_id": "a895b3028f54458d9fa05d59baca0ddb",
       "version_major": 2,
       "version_minor": 0
      },
      "text/plain": [
       "SelectMultiple(layout=Layout(height='180px', width='600px'), options=('Police Gazette Inquests 1875-1885', 'Br…"
      ]
     },
     "metadata": {},
     "output_type": "display_data"
    },
    {
     "data": {
      "text/html": [
       "<b>Search:</b>"
      ],
      "text/plain": [
       "<IPython.core.display.HTML object>"
      ]
     },
     "metadata": {},
     "output_type": "display_data"
    },
    {
     "data": {
      "application/vnd.jupyter.widget-view+json": {
       "model_id": "254933b26c9d4955a7c4677262fbbb69",
       "version_major": 2,
       "version_minor": 0
      },
      "text/plain": [
       "Text(value='', layout=Layout(width='500px'), placeholder='Search anything')"
      ]
     },
     "metadata": {},
     "output_type": "display_data"
    },
    {
     "data": {
      "text/html": [
       "Record limit per CSV:"
      ],
      "text/plain": [
       "<IPython.core.display.HTML object>"
      ]
     },
     "metadata": {},
     "output_type": "display_data"
    },
    {
     "data": {
      "application/vnd.jupyter.widget-view+json": {
       "model_id": "bd1548a4b88546c3a178b188f58b584c",
       "version_major": 2,
       "version_minor": 0
      },
      "text/plain": [
       "BoundedIntText(value=10, layout=Layout(width='100px'), max=10000, min=1, step=50)"
      ]
     },
     "metadata": {},
     "output_type": "display_data"
    },
    {
     "data": {
      "application/vnd.jupyter.widget-view+json": {
       "model_id": "dbd35a39a34b4dbeb63e81509cc3fe15",
       "version_major": 2,
       "version_minor": 0
      },
      "text/plain": [
       "Button(button_style='primary', description='Start search', style=ButtonStyle())"
      ]
     },
     "metadata": {},
     "output_type": "display_data"
    },
    {
     "data": {
      "application/vnd.jupyter.widget-view+json": {
       "model_id": "f764cf9ec3644560ac6965baf936e279",
       "version_major": 2,
       "version_minor": 0
      },
      "text/plain": [
       "Output()"
      ]
     },
     "metadata": {},
     "output_type": "display_data"
    }
   ],
   "source": [
    "# List available datasets to be searched with option to select\n",
    "\n",
    "# display all the widgets we've built with labels\n",
    "display(HTML('<b>Select datasets to search</b> (leave blank for all):'))\n",
    "display(datasetSelector)\n",
    "display(HTML('<b>Search:</b>'))\n",
    "display(keywordSetter)\n",
    "display(HTML('Record limit per CSV:'))\n",
    "display(limitSetter)\n",
    "display(button, output)\n",
    "output.clear_output()"
   ]
  },
  {
   "cell_type": "code",
   "execution_count": 7,
   "metadata": {},
   "outputs": [],
   "source": [
    "# This prints a static list of the datasets selected. Only to check code is working correctly\n",
    "#print (color.BOLD + 'keyword= ' + color.END + keyword)\n",
    "#print (color.BOLD + 'limit= ' + color.END + str(resultLimit))\n",
    "#print (color.BOLD + 'selected= ' + color.END + str(selectSearch))\n",
    "#print ('\\n' + color.BOLD + 'You are searching in the following datasets:' + color.END)\n",
    "#for x in range(len(selectSearch)): \n",
    "#    print ('\\u2022 ' + resourceTitles[selectSearch[x]],)"
   ]
  },
  {
   "cell_type": "markdown",
   "metadata": {},
   "source": [
    "# Do you want to learn more? Search in Trove!\n",
    "Maybe you found a cause of death as 'Apoplexy' and want to learn more about what this is?\n",
    "\n",
    "Or maybe you can find photos or newspaper articles about an ancestor you searched!"
   ]
  },
  {
   "cell_type": "code",
   "execution_count": 8,
   "metadata": {},
   "outputs": [
    {
     "data": {
      "text/html": [
       "<a href=\"https://trove.nla.gov.au/about/create-something/using-api#getting-an-api-key\">Trove makes their data available via an API. Get your Trove API key here - it is free and easy!</a>"
      ],
      "text/plain": [
       "<IPython.core.display.HTML object>"
      ]
     },
     "metadata": {},
     "output_type": "display_data"
    }
   ],
   "source": [
    "display(HTML(f'<a href=\"https://trove.nla.gov.au/about/create-something/using-api#getting-an-api-key\">Trove makes their data available via an API. Get your Trove API key here - it is free and easy!</a>'))"
   ]
  },
  {
   "cell_type": "code",
   "execution_count": 9,
   "metadata": {},
   "outputs": [],
   "source": [
    "# Preset zones in Trove that can be searched. \n",
    "zonesTrove = ['book',\n",
    "              'picture',\n",
    "              'article',\n",
    "              'music',\n",
    "              'map',\n",
    "              'collection',\n",
    "              'newspaper',\n",
    "              'gazette',\n",
    "              'list',\n",
    "              'all'\n",
    "]"
   ]
  },
  {
   "cell_type": "code",
   "execution_count": 14,
   "metadata": {},
   "outputs": [],
   "source": [
    "# Setup the widgets for searching Trove\n",
    "\n",
    "# This input widget lets you type in any string to search as a keyword\n",
    "termSetter = widgets.Text(\n",
    "    placeholder = 'Search anything',\n",
    "    disabled = False,\n",
    "    layout=widgets.Layout(width = '500px')\n",
    ")\n",
    "\n",
    "zoneSetter = widgets.Dropdown(\n",
    "    options = (zonesTrove),\n",
    "    value = 'all',\n",
    "    disabled = False,\n",
    "    layout=widgets.Layout(width = '100px')\n",
    ")\n",
    "\n",
    "# This input widget lets you enter your Trove API key\n",
    "keySetter = widgets.Text(\n",
    "    placeholder = 'Enter your Trove API key',\n",
    "    value = '',\n",
    "    disabled = False,\n",
    "    layout=widgets.Layout(width = '200px')\n",
    ")\n",
    "\n",
    "# This widget creates an action button for the user to kick off the search\n",
    "buttonTrove = widgets.Button(\n",
    "    description = 'Search Trove',\n",
    "    button_style = 'primary',\n",
    "    disabled = False\n",
    ")\n",
    "\n",
    "outputTrove = widgets.Output()"
   ]
  },
  {
   "cell_type": "code",
   "execution_count": 15,
   "metadata": {},
   "outputs": [],
   "source": [
    "# This defines the function that will be run when users click the Start search button in a later cell\n",
    "\n",
    "def search_trove(b):\n",
    "    # Clear output from any previous searches\n",
    "    outputTrove.clear_output()\n",
    "    \n",
    "    # Set the values from the widgets\n",
    "    global term\n",
    "    global key\n",
    "    global zone\n",
    "    \n",
    "    key = keySetter.value\n",
    "    term = termSetter.value\n",
    "    zone = zoneSetter.value\n",
    "    \n",
    "    # I can't get this string to result in plain & - it keeps changing to &amp;\n",
    "    troveURL = \"https://api.trove.nla.gov.au/v2/result?key=\" + key + \"&zone=\" + zone + \"&q=\" + term\n",
    "  \n",
    "    #response = requests.get(troveURL)\n",
    "\n",
    "    # extract records from search in JSON format\n",
    "    #results = response.json()\n",
    "     \n",
    "    # identify where the record data I want sits in the JSON\n",
    "    #records = results['result']['records']\n",
    "        \n",
    "    # identify where the total count of results sits in the JSON\n",
    "    #total = results['result']['total']\n",
    "        \n",
    "    with outputTrove:\n",
    "        # displays records from search in each dataset\n",
    "        #pd.set_option('display.max_rows', None)\n",
    "        #df = pd.DataFrame(records)\n",
    "        #display(df)\n",
    "        display(key)\n",
    "        display(zone)\n",
    "        display(term)\n",
    "        display(troveURL)\n",
    "        #display(response)"
   ]
  },
  {
   "cell_type": "code",
   "execution_count": 16,
   "metadata": {},
   "outputs": [],
   "source": [
    "# Sets what function the search Trove button will set off. The function is defined in the previous cell.\n",
    "buttonTrove.on_click(search_trove)"
   ]
  },
  {
   "cell_type": "code",
   "execution_count": 17,
   "metadata": {},
   "outputs": [
    {
     "data": {
      "text/html": [
       "<b>Enter your Trove API key:</b>"
      ],
      "text/plain": [
       "<IPython.core.display.HTML object>"
      ]
     },
     "metadata": {},
     "output_type": "display_data"
    },
    {
     "data": {
      "application/vnd.jupyter.widget-view+json": {
       "model_id": "8f13d888c2a84979aba41e934e8a01a5",
       "version_major": 2,
       "version_minor": 0
      },
      "text/plain": [
       "Text(value='', layout=Layout(width='200px'), placeholder='Enter your Trove API key')"
      ]
     },
     "metadata": {},
     "output_type": "display_data"
    },
    {
     "data": {
      "text/html": [
       "You must have a Trove API key to search through the Trove API. They are free and easy to setup!"
      ],
      "text/plain": [
       "<IPython.core.display.HTML object>"
      ]
     },
     "metadata": {},
     "output_type": "display_data"
    },
    {
     "data": {
      "text/html": [
       "<a href=\"https://trove.nla.gov.au/about/create-something/using-api#getting-an-api-key\">Get your own Trove API key here</a>"
      ],
      "text/plain": [
       "<IPython.core.display.HTML object>"
      ]
     },
     "metadata": {},
     "output_type": "display_data"
    },
    {
     "data": {
      "text/html": [
       "<br><b>Search your term in Trove</b>"
      ],
      "text/plain": [
       "<IPython.core.display.HTML object>"
      ]
     },
     "metadata": {},
     "output_type": "display_data"
    },
    {
     "data": {
      "application/vnd.jupyter.widget-view+json": {
       "model_id": "6fd6837094bb4433a518d7015274dfe0",
       "version_major": 2,
       "version_minor": 0
      },
      "text/plain": [
       "Text(value='', layout=Layout(width='500px'), placeholder='Search anything')"
      ]
     },
     "metadata": {},
     "output_type": "display_data"
    },
    {
     "data": {
      "application/vnd.jupyter.widget-view+json": {
       "model_id": "8ac5540a24c4425b97fa3bc898c20852",
       "version_major": 2,
       "version_minor": 0
      },
      "text/plain": [
       "Dropdown(index=9, layout=Layout(width='100px'), options=('book', 'picture', 'article', 'music', 'map', 'collec…"
      ]
     },
     "metadata": {},
     "output_type": "display_data"
    },
    {
     "data": {
      "application/vnd.jupyter.widget-view+json": {
       "model_id": "4c1512f0c002444086c3567b07170f94",
       "version_major": 2,
       "version_minor": 0
      },
      "text/plain": [
       "Button(button_style='primary', description='Search Trove', style=ButtonStyle())"
      ]
     },
     "metadata": {},
     "output_type": "display_data"
    },
    {
     "data": {
      "application/vnd.jupyter.widget-view+json": {
       "model_id": "0f4ae7ac32544cf08fe0330a8d5ec8c1",
       "version_major": 2,
       "version_minor": 0
      },
      "text/plain": [
       "Output()"
      ]
     },
     "metadata": {},
     "output_type": "display_data"
    }
   ],
   "source": [
    "# display the widgets to search Trove\n",
    "display(HTML('<b>Enter your Trove API key:</b>'))\n",
    "display(keySetter)\n",
    "display(HTML('You must have a Trove API key to search through the Trove API. They are free and easy to setup!'))\n",
    "display(HTML(f'<a href=\"https://trove.nla.gov.au/about/create-something/using-api#getting-an-api-key\">Get your own Trove API key here</a>'))\n",
    "display(HTML('<br><b>Search your term in Trove</b>'))\n",
    "display(termSetter)\n",
    "display(zoneSetter)\n",
    "display(buttonTrove, outputTrove)\n",
    "outputTrove.clear_output()"
   ]
  },
  {
   "cell_type": "code",
   "execution_count": null,
   "metadata": {},
   "outputs": [],
   "source": []
  }
 ],
 "metadata": {
  "kernelspec": {
   "display_name": "Python 3",
   "language": "python",
   "name": "python3"
  },
  "language_info": {
   "codemirror_mode": {
    "name": "ipython",
    "version": 3
   },
   "file_extension": ".py",
   "mimetype": "text/x-python",
   "name": "python",
   "nbconvert_exporter": "python",
   "pygments_lexer": "ipython3",
   "version": "3.7.3"
  }
 },
 "nbformat": 4,
 "nbformat_minor": 4
}
